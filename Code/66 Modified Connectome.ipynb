{
 "cells": [
  {
   "cell_type": "code",
   "execution_count": 1,
   "id": "95cc4ad3",
   "metadata": {},
   "outputs": [],
   "source": [
    "%load_ext autoreload\n",
    "%autoreload 2"
   ]
  },
  {
   "cell_type": "code",
   "execution_count": 2,
   "id": "9cff7ac8",
   "metadata": {},
   "outputs": [],
   "source": [
    "import numpy as np\n",
    "import matplotlib.pyplot as plt\n",
    "import HTC"
   ]
  },
  {
   "cell_type": "code",
   "execution_count": 3,
   "id": "ade41c97",
   "metadata": {},
   "outputs": [],
   "source": [
    "# load connectome\n",
    "# this is the original one, unmodified\n",
    "W66=np.loadtxt(\"../Data/connectivity_matrix/weights.txt\")"
   ]
  },
  {
   "cell_type": "code",
   "execution_count": 4,
   "id": "0b4caabf",
   "metadata": {},
   "outputs": [
    {
     "name": "stdout",
     "output_type": "stream",
     "text": [
      "Connectome loaded but not yet normalized\n",
      "r1 and r2 parameters now set successfully\n"
     ]
    }
   ],
   "source": [
    "#create brain object for all simulation fixed parameters\n",
    "brain=HTC.Brain()\n",
    "\n",
    "n_neurons=brain.connectome(W66, normalize=False)\n",
    "\n",
    "brain.set_netowrk_parameters(r1=2/n_neurons,\n",
    "                             r2=(2/n_neurons)**0.2)"
   ]
  },
  {
   "cell_type": "code",
   "execution_count": 5,
   "id": "90971f75",
   "metadata": {},
   "outputs": [],
   "source": [
    "attempts=[0,20]#,70]#,100,200,500,700]"
   ]
  },
  {
   "cell_type": "code",
   "execution_count": 6,
   "id": "e6582bc4",
   "metadata": {},
   "outputs": [],
   "source": [
    "w_new=HTC.modify_connectome(W66, attempts=attempts)"
   ]
  },
  {
   "cell_type": "code",
   "execution_count": 7,
   "id": "4644a9eb",
   "metadata": {},
   "outputs": [
    {
     "data": {
      "image/png": "[encoded data removed]",
      "text/plain": [
       "<Figure size 432x288 with 1 Axes>"
      ]
     },
     "metadata": {
      "needs_background": "light"
     },
     "output_type": "display_data"
    },
    {
     "data": {
      "image/png": "[encoded data removed]",
      "text/plain": [
       "<Figure size 432x288 with 1 Axes>"
      ]
     },
     "metadata": {
      "needs_background": "light"
     },
     "output_type": "display_data"
    }
   ],
   "source": [
    "for i,j in enumerate(attempts[0:2]):\n",
    "    plt.figure()\n",
    "#     plt.hist(w_new[i].flatten(), bins=50, log=True, range=(0,0.6),density=True, label=i)\n",
    "    plt.imshow(w_new[i], label=i)\n",
    "    #plt.legend()\n",
    "    #plt.show()"
   ]
  },
  {
   "cell_type": "code",
   "execution_count": 8,
   "id": "db4d0dcd",
   "metadata": {},
   "outputs": [],
   "source": [
    "#constants of the simulation\n",
    "active_frac=0.1 #Initial fraction of active neurons\n",
    "n_runs=100 #Parallel runs\n",
    "tmin=0.01 #Min tc\n",
    "tmax=0.3 #Max tc\n",
    "delta_tc=0.01 #Variation of tc\n",
    "dt=0.1 #Time step\n",
    "n_timesteps=6000 #Total number of timesteps\n",
    "s_step=10 #Campute s1 s2 every s_step (to speed up computing time)\n",
    "compute_s1_s2=False \n",
    "compute_s_distrib=False\n",
    "compute_fc=True"
   ]
  },
  {
   "cell_type": "code",
   "execution_count": 9,
   "id": "4e435936",
   "metadata": {},
   "outputs": [
    {
     "data": {
      "text/plain": [
       "[{}, {}]"
      ]
     },
     "execution_count": 9,
     "metadata": {},
     "output_type": "execute_result"
    }
   ],
   "source": [
    "#container of all simulations\n",
    "output=[dict() for i in attempts]\n",
    "output"
   ]
  },
  {
   "cell_type": "code",
   "execution_count": 10,
   "id": "cf5a1ccb",
   "metadata": {},
   "outputs": [
    {
     "name": "stdout",
     "output_type": "stream",
     "text": [
      "Connectome of shape (66, 66) now loaded and normalized successfully\n"
     ]
    },
    {
     "ename": "SystemError",
     "evalue": "CPUDispatcher(<function update_states at 0x7f11f81600d0>) returned a result with an error set",
     "output_type": "error",
     "traceback": [
      "\u001b[0;31m---------------------------------------------------------------------------\u001b[0m",
      "\u001b[0;31mKeyboardInterrupt\u001b[0m                         Traceback (most recent call last)",
      "File \u001b[0;32m~/miniconda3/lib/python3.8/site-packages/numba/core/serialize.py:29\u001b[0m, in \u001b[0;36m_numba_unpickle\u001b[0;34m(address, bytedata, hashed)\u001b[0m\n\u001b[1;32m     26\u001b[0m _unpickled_memo \u001b[38;5;241m=\u001b[39m {}\n\u001b[0;32m---> 29\u001b[0m \u001b[38;5;28;01mdef\u001b[39;00m \u001b[38;5;21m_numba_unpickle\u001b[39m(address, bytedata, hashed):\n\u001b[1;32m     30\u001b[0m     \u001b[38;5;124;03m\"\"\"Used by `numba_unpickle` from _helperlib.c\u001b[39;00m\n\u001b[1;32m     31\u001b[0m \n\u001b[1;32m     32\u001b[0m \u001b[38;5;124;03m    Parameters\u001b[39;00m\n\u001b[0;32m   (...)\u001b[0m\n\u001b[1;32m     41\u001b[0m \u001b[38;5;124;03m        unpickled object\u001b[39;00m\n\u001b[1;32m     42\u001b[0m \u001b[38;5;124;03m    \"\"\"\u001b[39;00m\n",
      "\u001b[0;31mKeyboardInterrupt\u001b[0m: ",
      "\nThe above exception was the direct cause of the following exception:\n",
      "\u001b[0;31mSystemError\u001b[0m                               Traceback (most recent call last)",
      "\u001b[0;31mSystemError\u001b[0m: PyEval_EvalFrameEx returned a result with an error set",
      "\nThe above exception was the direct cause of the following exception:\n",
      "\u001b[0;31mSystemError\u001b[0m                               Traceback (most recent call last)",
      "Input \u001b[0;32mIn [10]\u001b[0m, in \u001b[0;36m<cell line: 1>\u001b[0;34m()\u001b[0m\n\u001b[1;32m      1\u001b[0m \u001b[38;5;28;01mfor\u001b[39;00m i \u001b[38;5;129;01min\u001b[39;00m \u001b[38;5;28mrange\u001b[39m(\u001b[38;5;28mlen\u001b[39m(attempts)):\n\u001b[1;32m      2\u001b[0m     brain\u001b[38;5;241m.\u001b[39mconnectome(w_new[i], normalize\u001b[38;5;241m=\u001b[39m\u001b[38;5;28;01mTrue\u001b[39;00m)\n\u001b[0;32m----> 3\u001b[0m     output[i]\u001b[38;5;241m=\u001b[39m\u001b[43mbrain\u001b[49m\u001b[38;5;241;43m.\u001b[39;49m\u001b[43msimulation\u001b[49m\u001b[43m(\u001b[49m\u001b[43mactive_frac\u001b[49m\u001b[38;5;241;43m=\u001b[39;49m\u001b[43mactive_frac\u001b[49m\u001b[43m,\u001b[49m\u001b[43m \u001b[49m\u001b[43mn_runs\u001b[49m\u001b[38;5;241;43m=\u001b[39;49m\u001b[43mn_runs\u001b[49m\u001b[43m,\u001b[49m\n\u001b[1;32m      4\u001b[0m \u001b[43m                      \u001b[49m\u001b[43mtmin\u001b[49m\u001b[38;5;241;43m=\u001b[39;49m\u001b[43mtmin\u001b[49m\u001b[43m,\u001b[49m\u001b[43m \u001b[49m\u001b[43mtmax\u001b[49m\u001b[38;5;241;43m=\u001b[39;49m\u001b[43mtmax\u001b[49m\u001b[43m,\u001b[49m\u001b[43m \u001b[49m\u001b[43mdelta_tc\u001b[49m\u001b[38;5;241;43m=\u001b[39;49m\u001b[43mdelta_tc\u001b[49m\u001b[43m,\u001b[49m\n\u001b[1;32m      5\u001b[0m \u001b[43m                      \u001b[49m\u001b[43mdt\u001b[49m\u001b[38;5;241;43m=\u001b[39;49m\u001b[43mdt\u001b[49m\u001b[43m,\u001b[49m\u001b[43m \u001b[49m\u001b[43mn_timesteps\u001b[49m\u001b[38;5;241;43m=\u001b[39;49m\u001b[43mn_timesteps\u001b[49m\u001b[43m,\u001b[49m\n\u001b[1;32m      6\u001b[0m \u001b[43m                      \u001b[49m\u001b[43mcompute_s1_s2\u001b[49m\u001b[38;5;241;43m=\u001b[39;49m\u001b[43mcompute_s1_s2\u001b[49m\u001b[43m,\u001b[49m\u001b[43m \u001b[49m\u001b[43ms_step\u001b[49m\u001b[38;5;241;43m=\u001b[39;49m\u001b[43ms_step\u001b[49m\u001b[43m,\u001b[49m\n\u001b[1;32m      7\u001b[0m \u001b[43m                      \u001b[49m\u001b[43mcompute_s_distrib\u001b[49m\u001b[38;5;241;43m=\u001b[39;49m\u001b[43mcompute_s_distrib\u001b[49m\u001b[43m,\u001b[49m\u001b[43m \u001b[49m\u001b[43mtc_distrib\u001b[49m\u001b[38;5;241;43m=\u001b[39;49m\u001b[38;5;241;43m0.15\u001b[39;49m\u001b[43m,\u001b[49m\n\u001b[1;32m      8\u001b[0m \u001b[43m                      \u001b[49m\u001b[43mcompute_fc\u001b[49m\u001b[38;5;241;43m=\u001b[39;49m\u001b[43mcompute_fc\u001b[49m\u001b[43m)\u001b[49m\n",
      "File \u001b[0;32m/mnt/c/Users/berto/NotSync/GitHub/TesiTriennale/Code/HTC.py:88\u001b[0m, in \u001b[0;36mBrain.simulation\u001b[0;34m(self, active_frac, n_runs, tmin, tmax, delta_tc, dt, n_timesteps, compute_s1_s2, s_step, compute_s_distrib, tc_distrib, compute_fc)\u001b[0m\n\u001b[1;32m     83\u001b[0m \u001b[38;5;66;03m# Real simulation\u001b[39;00m\n\u001b[1;32m     84\u001b[0m \u001b[38;5;66;03m# For each time step:\u001b[39;00m\n\u001b[1;32m     85\u001b[0m \u001b[38;5;28;01mfor\u001b[39;00m timestep \u001b[38;5;129;01min\u001b[39;00m \u001b[38;5;28mrange\u001b[39m(n_timesteps):\n\u001b[1;32m     86\u001b[0m \n\u001b[1;32m     87\u001b[0m     \u001b[38;5;66;03m# Save states and activity\u001b[39;00m\n\u001b[0;32m---> 88\u001b[0m     states, temp_active \u001b[38;5;241m=\u001b[39m \u001b[43mupdate_states\u001b[49m\u001b[43m(\u001b[49m\u001b[43mstates\u001b[49m\u001b[38;5;241;43m=\u001b[39;49m\u001b[43mstates\u001b[49m\u001b[43m,\u001b[49m\n\u001b[1;32m     89\u001b[0m \u001b[43m                                        \u001b[49m\u001b[43mr1\u001b[49m\u001b[38;5;241;43m=\u001b[39;49m\u001b[38;5;28;43mself\u001b[39;49m\u001b[38;5;241;43m.\u001b[39;49m\u001b[43mr1\u001b[49m\u001b[43m,\u001b[49m\u001b[43m \u001b[49m\u001b[43mr2\u001b[49m\u001b[38;5;241;43m=\u001b[39;49m\u001b[38;5;28;43mself\u001b[39;49m\u001b[38;5;241;43m.\u001b[39;49m\u001b[43mr2\u001b[49m\u001b[43m,\u001b[49m\u001b[43m \u001b[49m\u001b[43mtc\u001b[49m\u001b[38;5;241;43m=\u001b[39;49m\u001b[43mtc_testing\u001b[49m\u001b[43m,\u001b[49m\u001b[43m \u001b[49m\u001b[43mW\u001b[49m\u001b[38;5;241;43m=\u001b[39;49m\u001b[38;5;28;43mself\u001b[39;49m\u001b[38;5;241;43m.\u001b[39;49m\u001b[43mW\u001b[49m\u001b[43m)\u001b[49m\n\u001b[1;32m     90\u001b[0m     activity_rtn[:, timestep] \u001b[38;5;241m=\u001b[39m temp_active\n\u001b[1;32m     92\u001b[0m     \u001b[38;5;66;03m# for the spcified timesteps\u001b[39;00m\n",
      "\u001b[0;31mSystemError\u001b[0m: CPUDispatcher(<function update_states at 0x7f11f81600d0>) returned a result with an error set"
     ]
    }
   ],
   "source": [
    "for i in range(len(attempts)):\n",
    "    brain.connectome(w_new[i], normalize=True)\n",
    "    output[i]=brain.simulation(active_frac=active_frac, n_runs=n_runs,\n",
    "                      tmin=tmin, tmax=tmax, delta_tc=delta_tc,\n",
    "                      dt=dt, n_timesteps=n_timesteps,\n",
    "                      compute_s1_s2=compute_s1_s2, s_step=s_step,\n",
    "                      compute_s_distrib=compute_s_distrib, tc_distrib=0.15,\n",
    "                      compute_fc=compute_fc)"
   ]
  },
  {
   "cell_type": "code",
   "execution_count": null,
   "id": "c869a701",
   "metadata": {},
   "outputs": [],
   "source": [
    "# simulation with different weights added\n",
    "fig,ax=plt.subplots(1,2,figsize=(10,5))\n",
    "for i in range(len(attempts)):\n",
    "    ax[0].plot(output[i]['tc'], output[i]['activity'], label='weights:'+str(attempts[i]))\n",
    "    ax[0].set_title('A')\n",
    "    ax[0].legend()\n",
    "    ax[1].plot(output[i]['tc'], output[i]['sigma_activity'], label='weights:'+str(attempts[i]))\n",
    "    ax[1].legend()\n",
    "    ax[1].set_title('sigmaA')\n",
    "\n",
    "plt.show()"
   ]
  },
  {
   "cell_type": "code",
   "execution_count": null,
   "id": "dae39e35",
   "metadata": {},
   "outputs": [],
   "source": [
    "rho,chi = HTC.rho_chi_added_weights( output, 'set')\n",
    "fig, ax=plt.subplots(1,2, figsize=(15,5))\n",
    "\n",
    "for i in range(len(rho)):\n",
    "    ax[0].plot(output[0]['tc'],rho[i], label='add: '+str(attempts[i]))\n",
    "    ax[0].legend()\n",
    "    ax[1].plot(output[0]['tc'],chi[i], label='add: '+str(attempts[i]))\n",
    "    ax[1].legend()\n",
    "ax[0].set_title('Rho at different added weights')\n",
    "plt.show()"
   ]
  },
  {
   "cell_type": "code",
   "execution_count": null,
   "id": "9e3e93c5",
   "metadata": {},
   "outputs": [],
   "source": [
    "fc_emp=HTC.fc_empirical()\n",
    "\n",
    "fc_emp_z=HTC.remove_zeroes(fc_emp)\n",
    "\n",
    "fig, ax=plt.subplots(1,3,figsize=(15,5))\n",
    "\n",
    "ax[0].imshow(HTC.remove_zeroes(output[0]['fc'][14]))\n",
    "ax[0].set_title('Normalized,Add 10 weights @ tc=%.2f'%output[0]['tc'][14])\n",
    "ax[1].imshow(HTC.remove_zeroes(output[0]['fc'][14]))\n",
    "ax[1].set_title('Normalized,Add '+str(attempts[0])+' weights @ tc=%.2f'%output[0]['tc'][14])\n",
    "ax[2].imshow(fc_emp_z)\n",
    "ax[2].set_title('Empirical')\n",
    "plt.show()"
   ]
  },
  {
   "cell_type": "raw",
   "id": "8a3a862c",
   "metadata": {},
   "source": [
    "# prepare distribution\n",
    "\n",
    "# remove 0 entries\n",
    "w66_0=W66[W66!=0].flatten()\n",
    "\n",
    "# compute histogram of distributions\n",
    "hist, binning = np.histogram(w66_0 ,bins=50,range=(0,0.6), density=True)\n",
    "\n",
    "# compute cumulative distribution\n",
    "cumsum=np.cumsum(hist/hist.sum())\n",
    "\n",
    "# number of random uniform numbers\n",
    "new_nodes=1000 # has to be less than the number of zero entries in LR connectome\n",
    "u=np.random.uniform(0,1, new_nodes)\n",
    "\n",
    "# new distribution of weights\n",
    "w_n=binning[np.searchsorted(cumsum[:-1],u)]\n",
    "\n",
    "attempts=[10,20,50,100,200,300,400,500,600,700]\n",
    "n_attempts=len(attempts)\n",
    "w_all=np.zeros((n_attempts,66,66), dtype=np.float16)\n",
    "\n",
    "reduced=W66[0:33,33:]\n",
    "reduced_2=np.copy(reduced)\n",
    "\n",
    "# tuples of empty indexes\n",
    "empty_coords=[(i,j) for i in range(33) for j in range(33) if reduced[i,j]==0]\n",
    "\n",
    "\n",
    "\n",
    "for j,n_to_fill in enumerate(attempts):\n",
    "\n",
    "    np.random.shuffle(empty_coords)\n",
    "    np.random.shuffle(w_n)\n",
    "    reduced_2=np.copy(reduced)\n",
    "\n",
    "    for i in range(n_to_fill): # the number of empty places i wanto to fill\n",
    "        reduced_2[empty_coords[i][0], empty_coords[i][1]]=w_n[i]\n",
    "        \n",
    "    W66_new=np.copy(W66)\n",
    "    W66_new[0:33,33:]=reduced_2\n",
    "    W66_new[33:,0:33]=reduced_2.T\n",
    "    w_all[j]=W66_new\n",
    "    \n",
    "\n",
    "plt.figure(1)\n",
    "plt.imshow(w_all[0], )\n",
    "plt.figure(2)\n",
    "plt.imshow(w_all[4])\n",
    "plt.show()"
   ]
  }
 ],
 "metadata": {
  "kernelspec": {
   "display_name": "Python 3 (ipykernel)",
   "language": "python",
   "name": "python3"
  },
  "language_info": {
   "codemirror_mode": {
    "name": "ipython",
    "version": 3
   },
   "file_extension": ".py",
   "mimetype": "text/x-python",
   "name": "python",
   "nbconvert_exporter": "python",
   "pygments_lexer": "ipython3",
   "version": "3.8.13"
  }
 },
 "nbformat": 4,
 "nbformat_minor": 5
}
