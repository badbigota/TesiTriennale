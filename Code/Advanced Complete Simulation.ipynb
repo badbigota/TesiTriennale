{
 "cells": [
  {
   "cell_type": "code",
   "execution_count": 1,
   "id": "37c6ff6d",
   "metadata": {},
   "outputs": [],
   "source": [
    "%load_ext autoreload\n",
    "%autoreload 2"
   ]
  },
  {
   "cell_type": "code",
   "execution_count": 2,
   "id": "8fa15348",
   "metadata": {},
   "outputs": [],
   "source": [
    "import numpy as np\n",
    "import matplotlib.pyplot as plt\n",
    "import HTC"
   ]
  },
  {
   "cell_type": "code",
   "execution_count": 3,
   "id": "137e655f",
   "metadata": {},
   "outputs": [],
   "source": [
    "# load connectome\n",
    "# this is the original one, unmodified\n",
    "W66=np.loadtxt(\"../Data/connectivity_matrix/weights.txt\")"
   ]
  },
  {
   "cell_type": "code",
   "execution_count": 4,
   "id": "926f5cd2",
   "metadata": {},
   "outputs": [
    {
     "name": "stdout",
     "output_type": "stream",
     "text": [
      "Connectome loaded but not yet normalized\n",
      "r1 and r2 parameters now set successfully\n"
     ]
    }
   ],
   "source": [
    "#create brain object for all simulation fixed parameters\n",
    "brain=HTC.Brain()\n",
    "\n",
    "n_neurons=brain.connectome(W66, normalize=False)\n",
    "\n",
    "brain.set_netowrk_parameters(r1=2/n_neurons,\n",
    "                             r2=(2/n_neurons)**0.2)"
   ]
  },
  {
   "cell_type": "code",
   "execution_count": 16,
   "id": "1c64b573",
   "metadata": {},
   "outputs": [],
   "source": [
    "attempts={0:1,\n",
    "          40:1,\n",
    "          70:1}\n",
    "output,w_new=HTC.connectome_attempter(attempts,mode='add',W=W66)"
   ]
  },
  {
   "cell_type": "code",
   "execution_count": 17,
   "id": "34119a9c",
   "metadata": {},
   "outputs": [],
   "source": [
    "#constants of the simulation\n",
    "active_frac=0.1 #Initial fraction of active neurons\n",
    "n_runs=100 #Parallel runs\n",
    "tmin=0.01 #Min tc\n",
    "tmax=0.3 #Max tc\n",
    "delta_tc=0.01 #Variation of tc\n",
    "dt=0.1 #Time step\n",
    "n_timesteps=6000 #Total number of timesteps\n",
    "s_step=10 #Campute s1 s2 every s_step (to speed up computing time)\n",
    "compute_s1_s2=False \n",
    "compute_s_distrib=False\n",
    "compute_fc=True"
   ]
  },
  {
   "cell_type": "code",
   "execution_count": 18,
   "id": "d92309c9",
   "metadata": {},
   "outputs": [
    {
     "name": "stdout",
     "output_type": "stream",
     "text": [
      "Connectome of shape (66, 66) now loaded and normalized successfully\n",
      "Connectome of shape (66, 66) now loaded and normalized successfully\n",
      "Connectome of shape (66, 66) now loaded and normalized successfully\n"
     ]
    }
   ],
   "source": [
    "o=HTC.advanced_simulation(w_new, brain, output,active_frac=active_frac, n_runs=n_runs,\n",
    "                      tmin=tmin, tmax=tmax, delta_tc=delta_tc,\n",
    "                      dt=dt, n_timesteps=n_timesteps,\n",
    "                      compute_s1_s2=compute_s1_s2, s_step=s_step,\n",
    "                      compute_s_distrib=compute_s_distrib, tc_distrib=0.15,\n",
    "                      compute_fc=compute_fc)"
   ]
  },
  {
   "cell_type": "code",
   "execution_count": 23,
   "id": "13891885",
   "metadata": {},
   "outputs": [
    {
     "data": {
      "text/plain": [
       "[<matplotlib.lines.Line2D at 0x7fd59b18cd60>]"
      ]
     },
     "execution_count": 23,
     "metadata": {},
     "output_type": "execute_result"
    },
    {
     "data": {
      "image/png": "[encoded data removed]",
      "text/plain": [
       "<Figure size 432x288 with 1 Axes>"
      ]
     },
     "metadata": {
      "needs_background": "light"
     },
     "output_type": "display_data"
    }
   ],
   "source": [
    "plt.plot(o[0][0]['tc'],o[0][0]['activity'])"
   ]
  },
  {
   "cell_type": "code",
   "execution_count": 24,
   "id": "8195bf20",
   "metadata": {},
   "outputs": [],
   "source": [
    "import pickle"
   ]
  },
  {
   "cell_type": "code",
   "execution_count": 25,
   "id": "5bdae8e8",
   "metadata": {},
   "outputs": [],
   "source": [
    "pickle.dump(o, open(\"myobject\", \"wb\"))"
   ]
  },
  {
   "cell_type": "code",
   "execution_count": null,
   "id": "63fbeeb9",
   "metadata": {},
   "outputs": [],
   "source": []
  }
 ],
 "metadata": {
  "kernelspec": {
   "display_name": "Python 3 (ipykernel)",
   "language": "python",
   "name": "python3"
  },
  "language_info": {
   "codemirror_mode": {
    "name": "ipython",
    "version": 3
   },
   "file_extension": ".py",
   "mimetype": "text/x-python",
   "name": "python",
   "nbconvert_exporter": "python",
   "pygments_lexer": "ipython3",
   "version": "3.8.13"
  }
 },
 "nbformat": 4,
 "nbformat_minor": 5
}
