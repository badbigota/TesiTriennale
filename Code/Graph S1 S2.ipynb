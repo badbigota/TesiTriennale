{
 "cells": [
  {
   "cell_type": "code",
   "execution_count": 1,
   "id": "763b5ba8",
   "metadata": {},
   "outputs": [],
   "source": [
    "import networkx\n",
    "import numpy as np"
   ]
  },
  {
   "cell_type": "code",
   "execution_count": 2,
   "id": "c3912d70",
   "metadata": {},
   "outputs": [],
   "source": [
    "c=[[0 for x in range(21)] for x in range(21)]"
   ]
  },
  {
   "cell_type": "code",
   "execution_count": 3,
   "id": "c9037e00",
   "metadata": {},
   "outputs": [],
   "source": [
    "def connect(c,a,b):\n",
    "    c[a][b]=c[b][a]=1"
   ]
  },
  {
   "cell_type": "code",
   "execution_count": 4,
   "id": "ad4edf4c",
   "metadata": {},
   "outputs": [
    {
     "name": "stdout",
     "output_type": "stream",
     "text": [
      "1 1\n"
     ]
    }
   ],
   "source": [
    "connect(c,0,9)\n",
    "connect(c,1,18)\n",
    "connect(c,2,13)\n",
    "connect(c,1,7)\n",
    "connect(c,4,10)\n",
    "connect(c,4,20)\n",
    "connect(c,7,8)\n",
    "connect(c,9,16)\n",
    "connect(c,11,17)\n",
    "connect(c,17,18)\n",
    "connect(c,18,19)\n",
    "connect(c,12,18)\n",
    "connect(c,6,12)\n",
    "connect(c,9,10)\n",
    "connect(c,18,13)\n",
    "connect(c,14,15)\n",
    "connect(c,19,13)\n",
    "print(c[7][1],c[1][7])"
   ]
  },
  {
   "cell_type": "code",
   "execution_count": 5,
   "id": "6268d49a",
   "metadata": {},
   "outputs": [
    {
     "name": "stdout",
     "output_type": "stream",
     "text": [
      "0 4 1\n",
      "1 7 1\n",
      "2 5 1\n",
      "4 0 1\n",
      "5 2 1\n",
      "5 7 1\n",
      "5 8 1\n",
      "6 7 1\n",
      "7 1 1\n",
      "7 5 1\n",
      "7 6 1\n",
      "7 8 1\n",
      "8 5 1\n",
      "8 7 1\n"
     ]
    }
   ],
   "source": [
    "active=np.array([0,1,2,4,9,13,17,18,19])\n",
    "con=np.array(c)\n",
    "red=con[active][:,active]\n",
    "for i in range(len(red)):\n",
    "    for j in range(len(red)):\n",
    "        if red[i,j]!=0:\n",
    "            print(i,j,red[i,j])"
   ]
  },
  {
   "cell_type": "code",
   "execution_count": 7,
   "id": "6a68896a",
   "metadata": {},
   "outputs": [],
   "source": [
    "def get_new_neighbours(red, index, l):\n",
    "    neigh=np.arange(0,len(red),1)[red[index].astype(np.bool8)]\n",
    "    mask=np.isin(neigh, l, invert=True)\n",
    "    return neigh[mask]"
   ]
  },
  {
   "cell_type": "code",
   "execution_count": 39,
   "id": "9509a4e8",
   "metadata": {},
   "outputs": [],
   "source": [
    "def get_families(red):\n",
    "    n_active=len(red)\n",
    "    n_fam=-1\n",
    "    l=[]\n",
    "    ll=[]\n",
    "    \n",
    "    def save(neigh, fam, ll, l):\n",
    "        ll[fam]=ll[fam]+ neigh.tolist()\n",
    "        l=l+neigh.tolist()\n",
    "        print(\"saving\")\n",
    "        print(\"--> ll \", ll)\n",
    "        print(\"--> l \", l)\n",
    "        return ll,l\n",
    "    \n",
    "    def get_active_connected(red,i, ll, l, n_fam):\n",
    "        new_neigh=get_new_neighbours(red, i, l)\n",
    "        print(\"got neighbours of node\",i)\n",
    "        print(\"--> new_neigh:\",new_neigh)\n",
    "        if new_neigh.size!=0:\n",
    "            print(\"not an empty list, now saving\")\n",
    "            ll,l=save(new_neigh, n_fam, ll, l)\n",
    "            print(\"begin loop on \", new_neigh)\n",
    "            for j in new_neigh:\n",
    "                print(\"get all active connections of \", j)\n",
    "                ll,l=get_active_connected(red, j, ll, l, n_fam)\n",
    "        else:\n",
    "            print(\"empty list\")\n",
    "        return ll, l\n",
    "    \n",
    "    for i in range(n_active):\n",
    "        print(\"trying \", i)\n",
    "        if i not in l:\n",
    "            print(\"begin new family\")\n",
    "            print(\"get all active connections of \", i)\n",
    "            n_fam+=1\n",
    "            ll.append([])\n",
    "            ll[n_fam].append(i)\n",
    "            l.append(i)\n",
    "            ll,l=get_active_connected(red,i, ll, l, n_fam) \n",
    "        else:\n",
    "            print(\"already in l\")\n",
    "    return ll,l"
   ]
  },
  {
   "cell_type": "markdown",
   "id": "47415e65",
   "metadata": {},
   "source": [
    "## Mixed python code"
   ]
  },
  {
   "cell_type": "code",
   "execution_count": 121,
   "id": "8cc23003",
   "metadata": {},
   "outputs": [],
   "source": [
    "def get_families(red):\n",
    "    n_active=len(red)\n",
    "    n_fam=-1\n",
    "    l=[]\n",
    "    lll=[]\n",
    "    \n",
    "    def save(neigh, fam,  l,lll):\n",
    "        l=l+neigh.tolist()\n",
    "        lll[n_fam]+=neigh.size\n",
    "        return l,lll\n",
    "    \n",
    "    def get_active_connected(red,i,  l,lll, n_fam):\n",
    "        new_neigh=get_new_neighbours(red, i, l)\n",
    "        if new_neigh.size!=0:\n",
    "            l,lll=save(new_neigh, n_fam, l,lll)\n",
    "            for j in new_neigh:\n",
    "                l,lll=get_active_connected(red, j, l,lll, n_fam)\n",
    "        return l,lll\n",
    "    \n",
    "    for i in range(n_active):\n",
    "        if i not in l:\n",
    "            n_fam+=1\n",
    "            l.append(i)\n",
    "            lll.append(1)\n",
    "            l,lll=get_active_connected(red,i, l,lll, n_fam) \n",
    "    return sorted(lll, reverse=True)"
   ]
  },
  {
   "cell_type": "code",
   "execution_count": 149,
   "id": "d88046f1",
   "metadata": {},
   "outputs": [
    {
     "name": "stdout",
     "output_type": "stream",
     "text": [
      "291 µs ± 11.1 µs per loop (mean ± std. dev. of 7 runs, 1,000 loops each)\n"
     ]
    }
   ],
   "source": [
    "%timeit get_families(red)"
   ]
  },
  {
   "cell_type": "code",
   "execution_count": 124,
   "id": "2fee58c9",
   "metadata": {},
   "outputs": [
    {
     "data": {
      "text/plain": [
       "3"
      ]
     },
     "execution_count": 124,
     "metadata": {},
     "output_type": "execute_result"
    }
   ],
   "source": [
    "np.array((1,2,3))"
   ]
  },
  {
   "cell_type": "code",
   "execution_count": 145,
   "id": "73d75426",
   "metadata": {},
   "outputs": [
    {
     "data": {
      "text/plain": [
       "[3, 2, 1]"
      ]
     },
     "execution_count": 145,
     "metadata": {},
     "output_type": "execute_result"
    }
   ],
   "source": [
    "sorted(np.array((1,2,3)),reverse=True)"
   ]
  },
  {
   "cell_type": "code",
   "execution_count": null,
   "id": "caaa9cfb",
   "metadata": {},
   "outputs": [],
   "source": []
  }
 ],
 "metadata": {
  "kernelspec": {
   "display_name": "Python 3 (ipykernel)",
   "language": "python",
   "name": "python3"
  },
  "language_info": {
   "codemirror_mode": {
    "name": "ipython",
    "version": 3
   },
   "file_extension": ".py",
   "mimetype": "text/x-python",
   "name": "python",
   "nbconvert_exporter": "python",
   "pygments_lexer": "ipython3",
   "version": "3.8.13"
  }
 },
 "nbformat": 4,
 "nbformat_minor": 5
}
